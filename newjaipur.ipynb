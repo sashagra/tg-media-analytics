{
 "cells": [
  {
   "cell_type": "code",
   "execution_count": 197,
   "id": "5c7087ce-9ae7-471a-9d2b-1d4e75c9370b",
   "metadata": {},
   "outputs": [],
   "source": [
    "with open(\"result.json\") as j:\n",
    "    json_data = j.read()\n"
   ]
  },
  {
   "cell_type": "code",
   "execution_count": 198,
   "id": "d86f3616-aac1-4319-b0d2-dbe8fd4febc3",
   "metadata": {},
   "outputs": [],
   "source": [
    "from pydantic import BaseModel, ValidationError, Field\n",
    "from typing import List, Optional\n",
    "\n",
    "class TextEntity(BaseModel):\n",
    "    type: str\n",
    "    text: str\n",
    "\n",
    "class Reaction(BaseModel):\n",
    "    type: str\n",
    "    count: int\n",
    "    emoji: str\n",
    "\n",
    "class ClassRecording(BaseModel):\n",
    "    id: int\n",
    "    type: str\n",
    "    date: str\n",
    "    date_unixtime: int\n",
    "    edited: Optional[str] = ''\n",
    "    edited_unixtime: Optional[str] = ''\n",
    "    from_: str = Field(alias='from')  # Используем alias для поля 'from'\n",
    "    from_id: str\n",
    "    file: Optional[str] = ''\n",
    "    file_name: str\n",
    "    thumbnail: Optional[str] = ''\n",
    "    media_type: str\n",
    "    title: str\n",
    "    mime_type: str\n",
    "    performer: str\n",
    "    duration_seconds: int\n",
    "    text: Optional[list|str] = ''\n",
    "    text_entities: Optional[list] = []\n",
    "    reactions: Optional[list] = []"
   ]
  },
  {
   "cell_type": "code",
   "execution_count": null,
   "id": "a70c41da-3455-4b49-b7b5-e705fcc013d2",
   "metadata": {},
   "outputs": [],
   "source": []
  },
  {
   "cell_type": "code",
   "execution_count": 214,
   "id": "8a88da9e-4fd9-4066-a6f0-03bb1e94ff91",
   "metadata": {},
   "outputs": [],
   "source": [
    "class All(BaseModel):\n",
    "    name: str\n",
    "    type: str\n",
    "    messages: List[Message]\n",
    "\n",
    "with open(\"result.json\") as j:\n",
    "    json_data = j.read()\n",
    "\n",
    "import json\n",
    "\n",
    "messages = json.loads(json_data)['messages']\n",
    "\n",
    "classes = [ClassRecording(**m) for m in messages if m.get(\"media_type\") == \"audio_file\"]\n",
    "\n",
    "\n"
   ]
  },
  {
   "cell_type": "code",
   "execution_count": 272,
   "id": "7c64d623-dc45-4437-b6e5-689f856c4c3e",
   "metadata": {},
   "outputs": [
    {
     "data": {
      "text/plain": [
       "171"
      ]
     },
     "execution_count": 272,
     "metadata": {},
     "output_type": "execute_result"
    }
   ],
   "source": [
    "lectors = set()\n",
    "for c in classes:\n",
    "    lectors.add(c.performer.strip())\n",
    "lectors"
   ]
  },
  {
   "cell_type": "code",
   "execution_count": 275,
   "id": "aa198af6-7534-4784-80d2-3a6fd18bd7d5",
   "metadata": {},
   "outputs": [
    {
     "data": {
      "text/plain": [
       "90"
      ]
     },
     "execution_count": 275,
     "metadata": {},
     "output_type": "execute_result"
    }
   ],
   "source": [
    "# lector aliases\n",
    "\n",
    "aliases = {\n",
    "    \"враджа хари\": \"Враджа Хари дас\",\n",
    "    \"радха крипа\": \"Радха Крипа д.д.\",\n",
    "    \"Абхай Ч\": \"Абхай Чайтанья дас\",\n",
    "    \"Юга Аватара\": \"Юга Аватара дас\",\n",
    "    \"Преданные\": \"Разные преданные\",\n",
    "    \"Мадана мукунда\": \"Мадана Мукунда дас\",\n",
    "    \"Саттва Чандра дас\": \"Саттвата Чандра дас\",\n",
    "    \"Гарура Радж\": \"Гаруда Радж дас\",\n",
    "    \"Гарударадж\": \"Гаруда Радж дас\",\n",
    "    \"Веда Вьяса\": \"Ведавьяса дас\",\n",
    "    \"Ведавьяс\": \"Ведавьяса дас\",\n",
    "    \"Бхакта Сергей\": \"Радха-канта дас\",\n",
    "    \"Вьяса Шуно\": \"Вьяса дас\",\n",
    "    \"Вьяса-шуно\": \"Вьяса дас\",\n",
    "    \"Дамодар Ананда\": \"Дамодар Ананда дас\",\n",
    "    \"Дамодара Ананда\": \"Дамодар Ананда дас\",\n",
    "    \"Дамодарананда\": \"Дамодар Ананда дас\",\n",
    "    'Зинкевич': 'Аватари-Кришна дас',\n",
    "    'Аватари-кришна дас': 'Аватари-Кришна дас',\n",
    "    \"Амрита Вишакха\": \"Амрита Вишакха д.д.\",\n",
    "    \"Ананта-шайи дас\": \"Ананта Шайи дас\",\n",
    "    \"Булавин\": \"Вайшнав Тхакур дас\",\n",
    "    \"Ваишнав Тхакур\": \"Вайшнав Тхакур дас\",\n",
    "    \"Бхактиведанта Свами\": \"Шрила Прабхупада\",\n",
    "    \"Вананинатха\": \"Ванинатха Васу дас\",\n",
    "    \"Вананинатха\": \"Ванинатха Васу дас\",\n",
    "    \"Ванинитха\": \"Ванинатха Васу дас\",\n",
    "    \"Ванинантха\": \"Ванинатха Васу дас\",\n",
    "    \"Ваникришна\": \"Ваникришнадас дас\",\n",
    "    \"Вани Кришна\": \"Ваникришнадас дас\",\n",
    "    \"Встреча Общины\": \"Встреча общины\",\n",
    "    \"Гауранга Вилас\": \"Гауранга Виласа дас\",\n",
    "    \"Гуранга Вилас\": \"Гауранга Виласа дас\",\n",
    "    \"Гиридхар\": \"Гоура Гиридхари дас\",\n",
    "    'Дхамершвара Махапрабху': \"Дхамешвара Махапрабху дас\",\n",
    "    'Дхамешвара Махапрабхс': \"Дхамешвара Махапрабху дас\",\n",
    "    'Дхамешвара Махпрабху': \"Дхамешвара Махапрабху дас\",\n",
    "    \"Адхокшаджа\": \"Адхокшаджа Свами\",\n",
    "    \"Адхокшада\": \"Адхокшаджа Свами\",\n",
    "    \"Вигьяна\": \"Бхакти Вигьяна Госвами\",\n",
    "    \"Кришна Каруна\": \"Кришна Каруна дас\",\n",
    "    \"Кришна Прия\": \"Кришна Прия .д.д.\",\n",
    "    \"Кунджа Мали\": \"Кунджамали дас\",\n",
    "    \"Мадана Мохан\": \"Мадана-мохан дас\",\n",
    "    \"Модана Мохан\": \"Мадана-мохан дас\",\n",
    "    \"Мадана-мохан\": \"Мадана-мохан дас\",\n",
    "    \"Маза Говардхан\": \"Маха Говардхан дас\",\n",
    "    \"Маллика- мала\": \"Малика Мала д.д.\",\n",
    "    \"Нароттам Вилас\": \"Нароттам Вилас дас\",\n",
    "    \"Прийа Сакхи\": \"Прия Сакхи д.д.\",\n",
    "    \"Прия Сакхи\": \"Прия Сакхи д.д.\",\n",
    "    \"Радха Дживан\": \"Радха Дживана дас\",\n",
    "    \"Сандхйа Аватара\": \"Сандхья Аватара дас\",\n",
    "    \"Сандхmz Аватара\": \"Сандхья Аватара дас\",\n",
    "    \"Шачи Сута\": \"Шачи Сута дас\",\n",
    "    \"Шри Нита\": \"Шри Нитай Гаура дас\",\n",
    "    \"Dasa\": \"Амала Кришна дас\",\n",
    "}\n",
    "\n",
    "def replace_lector_name(record_item: ClassRecording) -> ClassRecording:\n",
    "    # print(record_item.performer)\n",
    "\n",
    "    if len(record_item.performer.split(',')) > 1 or len(record_item.performer.split(' и ')) > 1:\n",
    "        # print(record_item.performer)\n",
    "        record_item.performer = 'Разные преданные'\n",
    "        return record_item\n",
    "        \n",
    "    for a, n in aliases.items():\n",
    "        # print(a)\n",
    "        if a.lower() in record_item.performer.lower():\n",
    "            record_item.performer = n\n",
    "            # print(record_item.performer)\n",
    "            return record_item\n",
    "    return record_item\n",
    "    \n",
    "            \n",
    "cl = [replace_lector_name(c.model_copy()) for c in classes]\n",
    "lectors = set()\n",
    "for c in cl:\n",
    "    lectors.add(c.performer.strip())\n",
    "len(lectors)"
   ]
  },
  {
   "cell_type": "code",
   "execution_count": 276,
   "id": "3d9a17f2-cd22-455b-a681-92c0c75a2741",
   "metadata": {},
   "outputs": [
    {
     "data": {
      "text/plain": [
       "ClassRecording(id=14, type='message', date='2021-06-24T09:56:07', date_unixtime=1624517767, edited='', edited_unixtime='', from_='Лекции из храма Нью Джайпур (ИСККОН Минск Харе Кришна)', from_id='channel1426928424', file='(File not included. Change data exporting settings to download.)', file_name='ШБ_6_4_49_50_Сила_аскезы_Амала_Кришна_дас_23_06_2021_n2nFwFxviDk.mp3', thumbnail='', media_type='audio_file', title='ШБ 6.4.49-50. Сила аскезы. Амала Кришна дас 23.06.2021', mime_type='audio/mpeg', performer='Dasa', duration_seconds=5964, text='', text_entities=[], reactions=[])"
      ]
     },
     "execution_count": 276,
     "metadata": {},
     "output_type": "execute_result"
    }
   ],
   "source": [
    "classes[0]"
   ]
  },
  {
   "cell_type": "code",
   "execution_count": 277,
   "id": "c72978f3-39fb-4336-b771-ea57f2df0981",
   "metadata": {},
   "outputs": [
    {
     "data": {
      "text/plain": [
       "[ClassRecording(id=949, type='message', date='2023-07-26T09:17:29', date_unixtime=1690352249, edited='2023-07-26T20:30:50', edited_unixtime='1690392650', from_='Лекции из храма Нью Джайпур (ИСККОН Минск Харе Кришна)', from_id='channel1426928424', file='(File not included. Change data exporting settings to download.)', file_name='ШБ_7_14_11_Нарада_Муни_дас_26_07_2023_2f0EEbt067w.mp3', thumbnail='(File not included. Change data exporting settings to download.)', media_type='audio_file', title='ШБ 7.14.11 - 26.07.23', mime_type='audio/mpeg', performer='Нарада Муни дас', duration_seconds=4576, text=['Нарада Муни дас\\nШБ 7.14.11 - 26.07.23\\nЛекции ', {'type': 'mention', 'text': '@newjaipur'}, ''], text_entities=[{'type': 'plain', 'text': 'Нарада Муни дас\\nШБ 7.14.11 - 26.07.23\\nЛекции '}, {'type': 'mention', 'text': '@newjaipur'}, {'type': 'plain', 'text': ''}], reactions=[{'type': 'emoji', 'count': 1, 'emoji': '🔥'}]),\n",
       " ClassRecording(id=950, type='message', date='2023-07-26T20:29:56', date_unixtime=1690392596, edited='2023-07-26T21:53:33', edited_unixtime='1690397613', from_='Лекции из храма Нью Джайпур (ИСККОН Минск Харе Кришна)', from_id='channel1426928424', file='(File not included. Change data exporting settings to download.)', file_name='БГ_13_16_Нарада_Муни_дас_и_Ашвасена_дас_26_07_2023_9gMShL1Wpqc.mp3', thumbnail='(File not included. Change data exporting settings to download.)', media_type='audio_file', title='БГ 13.16 - 26.07.23', mime_type='audio/mpeg', performer='Нарада Муни дас и Ашвасена дас', duration_seconds=5104, text=['Нарада Муни дас и Ашвасена дас\\nБГ 13.16 - 26.07.23\\nЛекции ', {'type': 'mention', 'text': '@newjaipur'}, ''], text_entities=[{'type': 'plain', 'text': 'Нарада Муни дас и Ашвасена дас\\nБГ 13.16 - 26.07.23\\nЛекции '}, {'type': 'mention', 'text': '@newjaipur'}, {'type': 'plain', 'text': ''}], reactions=[{'type': 'emoji', 'count': 1, 'emoji': '❤'}, {'type': 'emoji', 'count': 1, 'emoji': '🔥'}]),\n",
       " ClassRecording(id=1443, type='message', date='2024-08-27T12:55:51', date_unixtime=1724752551, edited='', edited_unixtime='', from_='Лекции из храма Нью Джайпур (ИСККОН Минск Харе Кришна)', from_id='channel1426928424', file='(File not included. Change data exporting settings to download.)', file_name='Воскресная_лекция_ЕМ_Нарада_Муни_прабху_«Как_за_проблемами_увидеть.mp3', thumbnail='(File not included. Change data exporting settings to download.)', media_type='audio_file', title='Как за проблемами увидеть Кришну - 18.08.24', mime_type='audio/mpeg', performer='Нарада Муни дас', duration_seconds=751, text=['Нарада Муни дас ', {'type': 'hashtag', 'text': '#Нарада_Муни_дас'}, '\\nКак за проблемами увидеть Кришну - 18.08.24\\nЛекции ', {'type': 'mention', 'text': '@newjaipur'}, ''], text_entities=[{'type': 'plain', 'text': 'Нарада Муни дас '}, {'type': 'hashtag', 'text': '#Нарада_Муни_дас'}, {'type': 'plain', 'text': '\\nКак за проблемами увидеть Кришну - 18.08.24\\nЛекции '}, {'type': 'mention', 'text': '@newjaipur'}, {'type': 'plain', 'text': ''}], reactions=[]),\n",
       " ClassRecording(id=1488, type='message', date='2024-09-27T20:37:34', date_unixtime=1727458654, edited='2024-09-28T03:26:08', edited_unixtime='1727483168', from_='Лекции из храма Нью Джайпур (ИСККОН Минск Харе Кришна)', from_id='channel1426928424', file='(File not included. Change data exporting settings to download.)', file_name='ШБ_8_22_17_Последствия_материального_прогресса_Е_М_Нарада_Муни_прабху.mp3', thumbnail='(File not included. Change data exporting settings to download.)', media_type='audio_file', title='ШБ 8.22.17 Последствия материального прогресса - 24.09.24', mime_type='audio/mpeg', performer='Нарада Муни дас', duration_seconds=5420, text=['Нарада Муни дас ', {'type': 'hashtag', 'text': '#Нарада_Муни_дас'}, '\\nШБ 8.22.17 Последствия материального прогресса - 24.09.24\\nЛекции ', {'type': 'mention', 'text': '@newjaipur'}, ''], text_entities=[{'type': 'plain', 'text': 'Нарада Муни дас '}, {'type': 'hashtag', 'text': '#Нарада_Муни_дас'}, {'type': 'plain', 'text': '\\nШБ 8.22.17 Последствия материального прогресса - 24.09.24\\nЛекции '}, {'type': 'mention', 'text': '@newjaipur'}, {'type': 'plain', 'text': ''}], reactions=[{'type': 'emoji', 'count': 1, 'emoji': '❤'}])]"
      ]
     },
     "execution_count": 277,
     "metadata": {},
     "output_type": "execute_result"
    }
   ],
   "source": [
    "[c for c in classes if 'Нарада' in c.performer]"
   ]
  }
 ],
 "metadata": {
  "kernelspec": {
   "display_name": "myenv",
   "language": "python",
   "name": "myenv"
  },
  "language_info": {
   "codemirror_mode": {
    "name": "ipython",
    "version": 3
   },
   "file_extension": ".py",
   "mimetype": "text/x-python",
   "name": "python",
   "nbconvert_exporter": "python",
   "pygments_lexer": "ipython3",
   "version": "3.13.0"
  }
 },
 "nbformat": 4,
 "nbformat_minor": 5
}
